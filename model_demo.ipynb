{
 "cells": [
  {
   "cell_type": "markdown",
   "metadata": {},
   "source": [
    "# Just run cell below, draw image and press recognize. To make new recognition - press Clear"
   ]
  },
  {
   "cell_type": "code",
   "execution_count": null,
   "metadata": {},
   "outputs": [],
   "source": [
    "from PIL import ImageTk, Image, ImageDraw\n",
    "import PIL\n",
    "from tkinter import *\n",
    "import keras\n",
    "import numpy as np\n",
    "\n",
    "width = 200  # canvas width\n",
    "height = 200 # canvas height\n",
    "center = height // 2\n",
    "white = (255, 255, 255) # canvas back\n",
    "mnist_img_size = (28, 28)\n",
    "\n",
    "model = keras.models.load_model('mnist_recognize.h5')\n",
    "\n",
    "def recognize():\n",
    "    resized_img = 255 - np.array(output_image.resize(mnist_img_size))[...,0]\n",
    "    resized_img = resized_img.astype('float32') / 255\n",
    "    resized_img = np.expand_dims(resized_img, -1)\n",
    "    resized_img = np.expand_dims(resized_img, 0)\n",
    "    label['text'] = f'Your number is: {np.argmax(model.predict(resized_img))}'\n",
    "\n",
    "    \n",
    "def clear():\n",
    "    draw.rectangle([0, 0, width, height], fill='white')\n",
    "    canvas.create_rectangle(0, 0, width, height, fill='white')\n",
    "    label['text'] = ''\n",
    "    \n",
    "\n",
    "def paint(event):\n",
    "    x1, y1 = (event.x - 1), (event.y - 1)\n",
    "    x2, y2 = (event.x + 1), (event.y + 1)\n",
    "    canvas.create_oval(x1, y1, x2, y2, fill='black', width=10)\n",
    "    draw.line([x1, y1, x2, y2], fill='black', width=10)\n",
    "\n",
    "master = Tk()\n",
    "\n",
    "# create a tkinter canvas to draw on\n",
    "canvas = Canvas(master, width=width, height=height, bg='white')\n",
    "canvas.pack()\n",
    "\n",
    "# create an empty PIL image and draw object to draw on\n",
    "output_image = PIL.Image.new('RGB', (width, height), white)\n",
    "draw = ImageDraw.Draw(output_image)\n",
    "canvas.pack(expand=YES, fill=BOTH)\n",
    "canvas.bind('<B1-Motion>', paint)\n",
    "\n",
    "# Label for recognition\n",
    "label = Label(width=20, bg='black', fg='white')\n",
    "label.pack()\n",
    "# add a button to save the image\n",
    "rec_button=Button(text='recognize', command=recognize)\n",
    "rec_button.pack()\n",
    "clear_button=Button(text='clear', command=clear)\n",
    "clear_button.pack()\n",
    "\n",
    "master.mainloop()"
   ]
  },
  {
   "cell_type": "code",
   "execution_count": null,
   "metadata": {},
   "outputs": [],
   "source": []
  }
 ],
 "metadata": {
  "kernelspec": {
   "display_name": "Python 3",
   "language": "python",
   "name": "python3"
  },
  "language_info": {
   "codemirror_mode": {
    "name": "ipython",
    "version": 3
   },
   "file_extension": ".py",
   "mimetype": "text/x-python",
   "name": "python",
   "nbconvert_exporter": "python",
   "pygments_lexer": "ipython3",
   "version": "3.8.3"
  }
 },
 "nbformat": 4,
 "nbformat_minor": 4
}
